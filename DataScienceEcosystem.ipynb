{
 "cells": [
  {
   "cell_type": "markdown",
   "id": "830b29a7-8db3-4b9f-8a8b-bacc96e52b59",
   "metadata": {},
   "source": [
    "# Data Science Tools and Ecosystem"
   ]
  },
  {
   "cell_type": "markdown",
   "id": "80a910a1-ebff-42bb-8e32-5d7983bfe1d9",
   "metadata": {},
   "source": [
    "In this notebook, Data Science Tools and Ecosystem are summarized."
   ]
  },
  {
   "cell_type": "markdown",
   "id": "e665ddda-9340-4d03-852b-3e104c6f495b",
   "metadata": {},
   "source": [
    "Some of the popular languages that Data Scientists use are:"
   ]
  },
  {
   "cell_type": "markdown",
   "id": "812d95c7-b1bf-4e08-9068-5a5e0f98d1ee",
   "metadata": {},
   "source": [
    "## Data Science Languages\n",
    "\n",
    "Data scientists use various programming languages to analyze data, build machine learning models, and visualize insights. Below are some of the most commonly used languages in data science:\n",
    "\n",
    "### **1. Python** 🐍  \n",
    "- Most widely used language for data science.  \n",
    "- Rich ecosystem with libraries like `pandas`, `NumPy`, `scikit-learn`, `TensorFlow`, and `PyTorch`.  \n",
    "\n",
    "### **2. R** 📊  \n",
    "- Designed for statistical computing and data visualization.  \n",
    "- Popular libraries include `ggplot2`, `dplyr`, and `caret`.  \n",
    "\n",
    "### **3. SQL** 🗄️  \n",
    "- Essential for querying and managing structured data.  \n",
    "- Used in databases like MySQL, PostgreSQL, and Microsoft SQL Server."
   ]
  },
  {
   "cell_type": "markdown",
   "id": "9fc42439-d44e-467d-ad53-aeb17e00f8c3",
   "metadata": {},
   "source": [
    "Some of the commonly used libraries used by Data Scientists include:"
   ]
  },
  {
   "cell_type": "markdown",
   "id": "0be8a529-35d1-4ced-8516-19584d9756c0",
   "metadata": {},
   "source": [
    "## Data Science Libraries\n",
    "\n",
    "### **1. Python Libraries** 🐍\n",
    "- **pandas** – Data manipulation and analysis  \n",
    "- **NumPy** – Numerical computing and arrays  \n",
    "- **Matplotlib** – Data visualization  \n",
    "- **Seaborn** – Statistical data visualization  \n",
    "- **scikit-learn** – Machine learning algorithms  \n",
    "- **TensorFlow** – Deep learning framework  \n",
    "- **PyTorch** – Deep learning and neural networks  \n",
    "- **XGBoost** – Gradient boosting for predictive modeling  \n",
    "\n",
    "### **2. R Libraries** 📊\n",
    "- **ggplot2** – Data visualization  \n",
    "- **dplyr** – Data manipulation  \n",
    "- **tidyverse** – Collection of data science packages  \n",
    "- **caret** – Machine learning and model training  \n",
    "- **randomForest** – Random forest algorithm  \n",
    "\n",
    "### **3. Big Data & SQL Libraries** 🗄️\n",
    "- **Apache Spark (PySpark)** – Distributed data processing  \n",
    "- **Dask** – Parallel computing for large datasets  \n",
    "- **H2O.ai** – Machine learning for big data"
   ]
  },
  {
   "cell_type": "markdown",
   "id": "d2528b09-647b-49ca-a2d2-0ce9d7d1b31d",
   "metadata": {},
   "source": [
    "## Data Science Tools\n",
    "\n",
    "| Tool            | Category             | Description |\n",
    "|----------------|---------------------|-------------|\n",
    "| Jupyter Notebook | Interactive Computing | Web-based environment for writing and running code |\n",
    "| Anaconda        | Package Management   | Distribution for Python & R with pre-installed libraries |\n",
    "| Apache Spark    | Big Data Processing  | Fast data processing for large-scale datasets |\n",
    "| TensorFlow      | Machine Learning     | Deep learning framework by Google |\n",
    "| PyTorch        | Machine Learning     | Deep learning framework by Meta (Facebook) |\n",
    "| RapidMiner      | Data Analytics       | Visual workflow-based data science tool |\n",
    "| KNIME           | Data Analytics       | Open-source tool for data preprocessing and analysis |\n",
    "| Power BI        | Data Visualization   | Business intelligence and analytics tool by Microsoft |\n",
    "| Tableau         | Data Visualization   | Interactive data visualization software |\n",
    "| Hadoop         | Big Data Processing  | Distributed storage and processing framework |"
   ]
  },
  {
   "cell_type": "markdown",
   "id": "19d1a6d4-b8ec-4ab0-82c1-c98352eed7b7",
   "metadata": {},
   "source": [
    "### Below are a few examples of evaluating arithmetic expressions in Python"
   ]
  },
  {
   "cell_type": "code",
   "execution_count": 3,
   "id": "ef77da6e-bcc0-48ec-bfce-44b34e5836b4",
   "metadata": {},
   "outputs": [
    {
     "data": {
      "text/plain": [
       "17"
      ]
     },
     "execution_count": 3,
     "metadata": {},
     "output_type": "execute_result"
    }
   ],
   "source": [
    "(3*4)+5\n",
    "#This a simple arithmetic expression to mutiply then add integers"
   ]
  },
  {
   "cell_type": "code",
   "execution_count": 4,
   "id": "77b3dd1c-6966-491d-a428-283f7abd500e",
   "metadata": {},
   "outputs": [
    {
     "data": {
      "text/plain": [
       "3.3333333333333335"
      ]
     },
     "execution_count": 4,
     "metadata": {},
     "output_type": "execute_result"
    }
   ],
   "source": [
    "# Convert 200 minutes to hours\n",
    "minutes = 200\n",
    "hours = minutes / 60\n",
    "\n",
    "# Display the result\n",
    "hours\n",
    "#This will convert 200 minutes to hours by diving by 60"
   ]
  },
  {
   "cell_type": "markdown",
   "id": "18887081-6e8b-4b9f-b777-9a3f0e2aaf68",
   "metadata": {},
   "source": [
    "## **Objectives**\n",
    "\n",
    "In this notebook, we covered the following key topics:\n",
    "\n",
    "- **List popular languages for Data Science**  \n",
    "- **Identify commonly used Data Science libraries**  \n",
    "- **Explore essential Data Science tools**  \n",
    "- **Understand the purpose of GitHub and version control**  \n",
    "- **Convert time units using Python expressions** "
   ]
  },
  {
   "cell_type": "markdown",
   "id": "a9fd4ca1-f3ed-41fc-9972-7b4db3378c27",
   "metadata": {},
   "source": [
    "## Author \n",
    "LIXI\n",
    "\n",
    "WU"
   ]
  },
  {
   "cell_type": "code",
   "execution_count": null,
   "id": "4304269e-06e3-48c7-9c49-e98a08b91234",
   "metadata": {},
   "outputs": [],
   "source": []
  },
  {
   "cell_type": "code",
   "execution_count": null,
   "id": "62b83991-a1fc-4be5-b989-fa476e98cc39",
   "metadata": {},
   "outputs": [],
   "source": []
  }
 ],
 "metadata": {
  "kernelspec": {
   "display_name": "Python 3 (ipykernel)",
   "language": "python",
   "name": "python3"
  },
  "language_info": {
   "codemirror_mode": {
    "name": "ipython",
    "version": 3
   },
   "file_extension": ".py",
   "mimetype": "text/x-python",
   "name": "python",
   "nbconvert_exporter": "python",
   "pygments_lexer": "ipython3",
   "version": "3.13.2"
  }
 },
 "nbformat": 4,
 "nbformat_minor": 5
}
